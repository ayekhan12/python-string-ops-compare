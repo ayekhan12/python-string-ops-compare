{
 "cells": [
  {
   "cell_type": "markdown",
   "id": "7a39c830",
   "metadata": {},
   "source": [
    "## Performance Analysis of Traditional vs. Contiguous-Memory String Operations\n",
    "### MSML605 Computing Systems for ML"
   ]
  },
  {
   "cell_type": "markdown",
   "id": "deb062ac",
   "metadata": {},
   "source": [
    "This notebook compares the performance of traditional string operations with PyArrow-based methods in terms of execution time and memory usage, highlighting efficiency gains for large-scale string manipulations."
   ]
  },
  {
   "cell_type": "markdown",
   "id": "e4b57ec6",
   "metadata": {},
   "source": [
    "### Part 1 - Import Libraries and Prepare Data"
   ]
  },
  {
   "cell_type": "code",
   "execution_count": 13,
   "id": "7c20e49f",
   "metadata": {},
   "outputs": [],
   "source": [
    "import pyarrow as pa\n",
    "import pyarrow.compute as pc\n",
    "import time\n",
    "import pandas as pd\n",
    "import numpy as np\n",
    "import sys\n",
    "from memory_profiler import memory_usage\n",
    "import matplotlib.pyplot as plt\n",
    "\n",
    "# Create sample data - A list of strings that we will use for our tests, replicated for volume\n",
    "data = [\"hello world\", \"data science\", \"machine learning\", \"python programming\"] * 100000\n",
    "\n",
    "# Create a DataFrame for traditional string operations\n",
    "traditional_df = pd.DataFrame(data, columns=[\"text\"])\n",
    "\n",
    "# Create a PyArrow array for efficient contiguous-data based operations\n",
    "arrow_array = pa.array(data)"
   ]
  },
  {
   "cell_type": "markdown",
   "id": "a2825ee5",
   "metadata": {},
   "source": [
    "### Part 2 - Performance Measurement Function"
   ]
  },
  {
   "cell_type": "code",
   "execution_count": 14,
   "id": "f9a89b93",
   "metadata": {},
   "outputs": [],
   "source": [
    "# Create a function to measure the time and memory usage of an operation\n",
    "def measure_performance(operation, data):\n",
    "    \"\"\"\n",
    "    This function measures the execution time and memory usage of a string operation\n",
    "    \"\"\"\n",
    "    start_time = time.time()        # Start time\n",
    "    mem_before = memory_usage()[0]  # Memory usage before\n",
    "    result = operation(data)        # Run the operation\n",
    "    mem_after = memory_usage()[0]   # Memory usage after\n",
    "    end_time = time.time()          # End time\n",
    "    \n",
    "    return {\n",
    "        \"Result\": result,\n",
    "        \"Time Taken (s)\": end_time - start_time,\n",
    "        \"Memory Usage (MB)\": mem_after - mem_before\n",
    "    }"
   ]
  },
  {
   "cell_type": "markdown",
   "id": "072b0a31",
   "metadata": {},
   "source": [
    "### Part 3 - Define String Operations"
   ]
  },
  {
   "cell_type": "code",
   "execution_count": 15,
   "id": "5a11aecc",
   "metadata": {},
   "outputs": [],
   "source": [
    "# Define the string operations needed to test for both Traditional and PyArrow\n",
    "\n",
    "# Each string operation is defined here as a small function (using lambda functions)\n",
    "\n",
    "traditional_operations = {\n",
    "    \"Reverse String\": lambda x: x[::-1],            \n",
    "    \"Uppercase\": lambda x: x.upper(),               \n",
    "    \"Lowercase\": lambda x: x.lower(),               \n",
    "    \"Concatenate with ' - test'\": lambda x: x + ' - test',  \n",
    "    \"Find Substring 'data'\": lambda x: 'data' in x, \n",
    "    \"Replace 'data' with 'info'\": lambda x: x.replace('data', 'info'),\n",
    "    \"Split by Space\": lambda x: x.split(' ')\n",
    "}\n",
    "\n",
    "# Define corresponding equivalent operations for PyArrow\n",
    "arrow_operations = {\n",
    "    \"Reverse String\": lambda x: pc.binary_reverse(pc.cast(x, pa.binary())),\n",
    "    \"Uppercase\": lambda x: pc.utf8_upper(x),\n",
    "    \"Lowercase\": lambda x: pc.utf8_lower(x),\n",
    "    \"Concatenate with ' - test'\": lambda x: pc.binary_join_element_wise(x, pa.array([' - test'] * len(x))),\n",
    "    \"Find Substring 'data'\": lambda x: pc.match_substring(x, \"data\"),\n",
    "    \"Replace 'data' with 'info'\": lambda x: pc.replace_substring(x, \"data\", \"info\"),\n",
    "    \"Split by Space\": lambda x: pc.split_pattern(x, \" \")\n",
    "}\n"
   ]
  },
  {
   "cell_type": "markdown",
   "id": "071ee504",
   "metadata": {},
   "source": [
    "### Part 4 - Run Operations and Collect Results"
   ]
  },
  {
   "cell_type": "code",
   "execution_count": 16,
   "id": "11fe381f",
   "metadata": {},
   "outputs": [
    {
     "name": "stdout",
     "output_type": "stream",
     "text": [
      "Running traditional string operations and saving results.\n",
      "Running PyArrow string operations and saving the results.\n"
     ]
    }
   ],
   "source": [
    "# The 'results' list will store the results for both Traditional and PyArrow methods\n",
    "results = []\n",
    "\n",
    "\n",
    "# For Trsditional Operations:\n",
    "print(\"Running traditional string operations and saving results.\")\n",
    "for operation_name, operation in traditional_operations.items(): \n",
    "    \n",
    "    # Measure performance\n",
    "    performance = measure_performance(\n",
    "        lambda df: df['text'].apply(operation), traditional_df\n",
    "    )\n",
    "    \n",
    "    # Store the results\n",
    "    results.append({\n",
    "        \"Operation\": operation_name,\n",
    "        \"Method\": \"Traditional\",\n",
    "        \"Time Taken (s)\": performance[\"Time Taken (s)\"],\n",
    "        \"Memory Usage (MB)\": performance[\"Memory Usage (MB)\"]\n",
    "    })\n",
    "\n",
    "    \n",
    "# For PyArrow Operations:    \n",
    "print(\"Running PyArrow string operations and saving the results.\")\n",
    "for operation_name, operation in arrow_operations.items():\n",
    "    \n",
    "    # Measure performance\n",
    "    performance = measure_performance(operation, arrow_array)\n",
    "    \n",
    "    # Store the results\n",
    "    results.append({\n",
    "        \"Operation\": operation_name,\n",
    "        \"Method\": \"PyArrow\",\n",
    "        \"Time Taken (s)\": performance[\"Time Taken (s)\"],\n",
    "        \"Memory Usage (MB)\": performance[\"Memory Usage (MB)\"]\n",
    "    })"
   ]
  },
  {
   "cell_type": "markdown",
   "id": "2d65472c",
   "metadata": {},
   "source": [
    "### Part 5 - Create DataFrame and Save Results"
   ]
  },
  {
   "cell_type": "code",
   "execution_count": 17,
   "id": "e419e7f7",
   "metadata": {},
   "outputs": [
    {
     "name": "stdout",
     "output_type": "stream",
     "text": [
      "Summary of Results:\n",
      "                     Operation       Method  Time Taken (s)  Memory Usage (MB)\n",
      "0               Reverse String  Traditional        0.328028          30.117188\n",
      "1                    Uppercase  Traditional        0.313325          31.074219\n",
      "2                    Lowercase  Traditional        0.285284          29.601562\n",
      "3   Concatenate with ' - test'  Traditional        0.290249          33.992188\n",
      "4        Find Substring 'data'  Traditional        0.316917           0.312500\n",
      "5   Replace 'data' with 'info'  Traditional        0.337053           7.761719\n",
      "6               Split by Space  Traditional        0.702017         114.578125\n",
      "7               Reverse String      PyArrow        0.267615           7.316406\n",
      "8                    Uppercase      PyArrow        0.251661           7.019531\n",
      "9                    Lowercase      PyArrow        0.249054           6.781250\n",
      "10  Concatenate with ' - test'      PyArrow        0.289470           1.558594\n",
      "11       Find Substring 'data'      PyArrow        0.236084           0.085938\n",
      "12  Replace 'data' with 'info'      PyArrow        0.269202           7.769531\n",
      "13              Split by Space      PyArrow        0.254512           1.562500\n"
     ]
    }
   ],
   "source": [
    "# Create a DataFrame to display the summary of results\n",
    "results_df = pd.DataFrame(results)\n",
    "\n",
    "# Display the results in a summary table\n",
    "print(\"Summary of Results:\")\n",
    "print(results_df)\n",
    "\n",
    "# Save the results to a CSV\n",
    "results_df.to_csv(\"string_operations_performance.csv\", index=False)"
   ]
  },
  {
   "cell_type": "markdown",
   "id": "9a56e0e9",
   "metadata": {},
   "source": [
    "#### Computing average percentage difference in execution time and memory usage"
   ]
  },
  {
   "cell_type": "code",
   "execution_count": 18,
   "id": "ed429c3b",
   "metadata": {},
   "outputs": [
    {
     "name": "stdout",
     "output_type": "stream",
     "text": [
      "\n",
      "Average Time and Memory Usage Comparison (with Percentage Difference):\n",
      "\n",
      "                            Time Taken (s)  Memory Usage (MB)\n",
      "Method                                                       \n",
      "PyArrow                           0.259657           4.584821\n",
      "Traditional                       0.367553          35.348214\n",
      "Difference                        0.107896          30.763393\n",
      "Percentage Improvement (%)       29.355273          87.029553\n"
     ]
    }
   ],
   "source": [
    "# Group by Method and compute average time and memory usage\n",
    "average_results = results_df.groupby('Method').mean()[['Time Taken (s)', 'Memory Usage (MB)']]\n",
    "\n",
    "# Calculate the difference between Traditional and PyArrow\n",
    "average_results.loc['Difference'] = average_results.loc['Traditional'] - average_results.loc['PyArrow']\n",
    "\n",
    "# Calculate the percentage difference\n",
    "# Avoid division by zero by using np.where to handle cases where the denominator is 0\n",
    "average_results.loc['Percentage Improvement (%)'] = np.where(\n",
    "    average_results.loc['PyArrow'] != 0,\n",
    "    (average_results.loc['Difference'] / average_results.loc['Traditional']) * 100,\n",
    "    np.nan\n",
    ")\n",
    "\n",
    "# Display the results\n",
    "print(\"\\nAverage Time and Memory Usage Comparison (with Percentage Difference):\\n\")\n",
    "print(average_results)"
   ]
  },
  {
   "cell_type": "markdown",
   "id": "8a589b8f",
   "metadata": {},
   "source": [
    "**Results Inference:**\n",
    "\n",
    "The results show that PyArrow methods consistently outperform traditional string operations, significantly reducing both execution time (by 30%) and memory consumption (by 90%)."
   ]
  },
  {
   "cell_type": "markdown",
   "id": "49d06ea8",
   "metadata": {},
   "source": [
    "### Part 6 - Plot Results"
   ]
  },
  {
   "cell_type": "code",
   "execution_count": 19,
   "id": "4d2f7cfc",
   "metadata": {},
   "outputs": [
    {
     "data": {
      "image/png": "[encoded data removed]",
      "text/plain": [
       "<Figure size 864x432 with 1 Axes>"
      ]
     },
     "metadata": {
      "needs_background": "light"
     },
     "output_type": "display_data"
    },
    {
     "data": {
      "image/png": "[encoded data removed]",
      "text/plain": [
       "<Figure size 864x432 with 1 Axes>"
      ]
     },
     "metadata": {
      "needs_background": "light"
     },
     "output_type": "display_data"
    }
   ],
   "source": [
    "# Create a sorted list of operations - ensure the same operation for both 'Traditional' and 'PyArrow' is grouped together\n",
    "sorted_operations = sorted(results_df['Operation'].unique(), key=lambda x: x.split(' (')[0])\n",
    "\n",
    "# Add a 'Sort_Order' column to the DataFrame to maintain the order in the plot\n",
    "results_df['Sort_Order'] = results_df['Operation'].apply(lambda x: sorted_operations.index(x))\n",
    "\n",
    "# Sort the DataFrame based on 'Sort_Order' for proper grouping\n",
    "results_df = results_df.sort_values(by='Sort_Order')\n",
    "\n",
    "# Plot Time Taken for each operation\n",
    "plt.figure(figsize=(12, 6))\n",
    "\n",
    "# Loop through both methods ('Traditional' and 'PyArrow')\n",
    "for method in results_df['Method'].unique():\n",
    "    subset = results_df[results_df['Method'] == method]\n",
    "    \n",
    "    # Plot the bar for each method and label it\n",
    "    plt.bar(subset['Operation'], subset['Time Taken (s)'], label=method)\n",
    "\n",
    "plt.title(\"Time Taken for String Operations (Traditional vs PyArrow)\")\n",
    "plt.ylabel(\"Time Taken (seconds)\")\n",
    "plt.xticks(rotation=45, ha='right')\n",
    "plt.legend()\n",
    "plt.tight_layout()\n",
    "plt.show()\n",
    "\n",
    "# Plot the Memory Usage for each operation\n",
    "plt.figure(figsize=(12, 6))\n",
    "\n",
    "# Loop through each method ('Traditional' and 'PyArrow')\n",
    "for method in results_df['Method'].unique():\n",
    "    subset = results_df[results_df['Method'] == method]\n",
    "    \n",
    "    # Plot the bar for each method and label it\n",
    "    plt.bar(subset['Operation'], subset['Memory Usage (MB)'], label=method)\n",
    "\n",
    "plt.title(\"Memory Usage for String Operations (Traditional vs PyArrow)\")\n",
    "plt.ylabel(\"Memory Usage (MB)\")\n",
    "plt.xticks(rotation=45, ha='right')\n",
    "plt.legend()\n",
    "plt.tight_layout()\n",
    "plt.show()"
   ]
  },
  {
   "cell_type": "markdown",
   "id": "cd1c906d",
   "metadata": {},
   "source": [
    "**Plot Inference:**\n",
    "\n",
    "- **Execution Time Comparison Plot:**\n",
    "PyArrow methods execute faster than traditional string operations, demonstrating improved efficiency for large datasets.\n",
    "\n",
    "- **Memory Usage Comparison Plot:**\n",
    "PyArrow significantly optimizes memory usage, making it a better choice for memory-intensive string manipulations."
   ]
  },
  {
   "cell_type": "markdown",
   "id": "fd43a7ad",
   "metadata": {},
   "source": [
    "### Part 7 - Analyze the Results"
   ]
  },
  {
   "cell_type": "code",
   "execution_count": 20,
   "id": "21d5e270",
   "metadata": {},
   "outputs": [
    {
     "name": "stdout",
     "output_type": "stream",
     "text": [
      "Analysis Summary is as follows:\n",
      "- For 'Concatenate with ' - test'': PyArrow is faster by 0.0008 seconds.\n",
      "- For 'Find Substring 'data'': PyArrow is faster by 0.0808 seconds.\n",
      "- For 'Lowercase': PyArrow is faster by 0.0362 seconds.\n",
      "- For 'Replace 'data' with 'info'': PyArrow is faster by 0.0679 seconds.\n",
      "- For 'Reverse String': PyArrow is faster by 0.0604 seconds.\n",
      "- For 'Split by Space': PyArrow is faster by 0.4475 seconds.\n",
      "- For 'Uppercase': PyArrow is faster by 0.0617 seconds.\n"
     ]
    }
   ],
   "source": [
    "# Analysis and Summary\n",
    "print(\"Analysis Summary is as follows:\")\n",
    "for operation in results_df['Operation'].unique():\n",
    "    traditional_time = results_df[(results_df['Operation'] == operation) & (results_df['Method'] == 'Traditional')]['Time Taken (s)'].values[0]\n",
    "    arrow_time = results_df[(results_df['Operation'] == operation) & (results_df['Method'] == 'PyArrow')]['Time Taken (s)'].values[0]\n",
    "\n",
    "    if traditional_time < arrow_time:\n",
    "        print(f\"- For '{operation}': Traditional is faster by {arrow_time - traditional_time:.4f} seconds.\")\n",
    "    else:\n",
    "        print(f\"- For '{operation}': PyArrow is faster by {traditional_time - arrow_time:.4f} seconds.\")\n"
   ]
  },
  {
   "cell_type": "code",
   "execution_count": 21,
   "id": "0a24432a",
   "metadata": {
    "scrolled": true
   },
   "outputs": [
    {
     "data": {
      "image/png": "[encoded data removed]",
      "text/plain": [
       "<Figure size 720x288 with 2 Axes>"
      ]
     },
     "metadata": {
      "needs_background": "light"
     },
     "output_type": "display_data"
    }
   ],
   "source": [
    "# Group by Method and compute average time and memory usage\n",
    "average_results = results_df.groupby('Method').mean()[['Time Taken (s)', 'Memory Usage (MB)']]\n",
    "\n",
    "# Plotting the comparison\n",
    "fig, axes = plt.subplots(1, 2, figsize=(10, 4))\n",
    "fig.suptitle('Average Time and Memory Usage Comparison')\n",
    "\n",
    "# Filter out 'Difference' before plotting\n",
    "methods_to_plot = average_results.loc[['Traditional', 'PyArrow']]\n",
    "\n",
    "# Time Taken Comparison\n",
    "axes[0].bar(methods_to_plot.index, methods_to_plot['Time Taken (s)'], color=['blue', 'orange'])\n",
    "axes[0].set_title('Average Time Taken (s)')\n",
    "axes[0].set_ylabel('Time (s)')\n",
    "\n",
    "# Memory Usage Comparison\n",
    "axes[1].bar(methods_to_plot.index, methods_to_plot['Memory Usage (MB)'], color=['blue', 'orange'])\n",
    "axes[1].set_title('Average Memory Usage (MB)')\n",
    "axes[1].set_ylabel('Memory (MB)')\n",
    "\n",
    "plt.tight_layout()\n",
    "plt.show()"
   ]
  },
  {
   "cell_type": "markdown",
   "id": "c572db29",
   "metadata": {},
   "source": [
    "**Average Comparison Plot:**\n",
    "\n",
    "On average, PyArrow methods not only save time but also reduce memory consumption, reinforcing its efficiency advantage."
   ]
  }
 ],
 "metadata": {
  "kernelspec": {
   "display_name": "Python 3",
   "language": "python",
   "name": "python3"
  },
  "language_info": {
   "codemirror_mode": {
    "name": "ipython",
    "version": 3
   },
   "file_extension": ".py",
   "mimetype": "text/x-python",
   "name": "python",
   "nbconvert_exporter": "python",
   "pygments_lexer": "ipython3",
   "version": "3.7.6"
  }
 },
 "nbformat": 4,
 "nbformat_minor": 5
}
